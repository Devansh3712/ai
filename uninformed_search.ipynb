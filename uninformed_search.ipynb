{
 "cells": [
  {
   "cell_type": "markdown",
   "metadata": {},
   "source": [
    "## Uninformed Search\n",
    "Used to traverse a search space without any additional information about the problem domain other than the definition of the problem.\n",
    "\n",
    "![graph](https://www.gatevidyalay.com/wp-content/uploads/2018/03/Dijkstra-Algorithm-Problem-01.png)"
   ]
  },
  {
   "cell_type": "code",
   "execution_count": 2,
   "metadata": {},
   "outputs": [],
   "source": [
    "graph = {\n",
    "    \"s\": [(\"a\", 1), (\"b\", 5)],\n",
    "    \"a\": [(\"b\", 2), (\"c\", 2), (\"d\", 1)],\n",
    "    \"b\": [(\"d\", 2)],\n",
    "    \"c\": [(\"d\", 3), (\"e\", 1)],\n",
    "    \"d\": [(\"e\", 2)],\n",
    "    \"e\": []\n",
    "}\n",
    "start = \"s\"\n",
    "goal = \"e\""
   ]
  },
  {
   "cell_type": "markdown",
   "metadata": {},
   "source": [
    "### Breadth First Search (BFS)\n",
    "- Explores the search space level by level, starting from the initial state\n",
    "- Uses a queue to maintain the frontier of nodes to be expanded\n",
    "- Guarantees finding the shortest path to the goal state in terms of the number of edges traversed"
   ]
  },
  {
   "cell_type": "code",
   "execution_count": 32,
   "metadata": {},
   "outputs": [
    {
     "name": "stdout",
     "output_type": "stream",
     "text": [
      "s -> a -> c -> e\n"
     ]
    }
   ],
   "source": [
    "class State:\n",
    "    def __init__(self, current: str, parent = None) -> None:\n",
    "        self.current = current\n",
    "        self.parent = parent\n",
    "\n",
    "def bfs(\n",
    "    start: str,\n",
    "    goal: str,\n",
    "    graph: dict[str, list[tuple[str, int]]]\n",
    ") -> State | None:\n",
    "    queue: list[State] = []\n",
    "    visited: set[str] = set()\n",
    "\n",
    "    queue.append(State(start))\n",
    "    while queue:\n",
    "        temp = queue.pop(0)\n",
    "        node = temp.current\n",
    "        if node == goal:\n",
    "            return temp\n",
    "        if node not in visited:\n",
    "            visited.add(node)\n",
    "            for next, _ in graph[node]:\n",
    "                queue.append(State(next, temp))\n",
    "    \n",
    "    return None\n",
    "\n",
    "result = bfs(start, goal, graph)\n",
    "path: list[str] = []\n",
    "\n",
    "while result:\n",
    "    path.insert(0, result.current)\n",
    "    result = result.parent\n",
    "\n",
    "print(\" -> \".join(path))"
   ]
  },
  {
   "cell_type": "markdown",
   "metadata": {},
   "source": [
    "### Depth First Search (DFS)\n",
    "- Explores the search space depth-first, starting from the initial state and traversing as far as possible along each branch before backtracking\n",
    "- Uses a stack to maintain the frontier of nodes to be expanded\n",
    "- May not find the shortest path to the goal state and can get stuck in infinite loops if the search space contains cycles"
   ]
  },
  {
   "cell_type": "code",
   "execution_count": 41,
   "metadata": {},
   "outputs": [
    {
     "name": "stdout",
     "output_type": "stream",
     "text": [
      "s -> a -> b -> d -> e\n"
     ]
    }
   ],
   "source": [
    "def dfs(\n",
    "    current: str,\n",
    "    goal: str,\n",
    "    graph: dict[str, list[tuple[str, int]]],\n",
    "    visited: set[str]\n",
    ") -> list[str]:\n",
    "    if current == goal:\n",
    "        return [current]\n",
    "    if current in visited:\n",
    "        return []\n",
    "\n",
    "    visited.add(current)\n",
    "    for next, _ in graph[current]:\n",
    "        if next not in visited:\n",
    "            result = dfs(next, goal, graph, visited)\n",
    "            if result:\n",
    "                return [current] + result\n",
    "    \n",
    "    return []\n",
    "\n",
    "visited: set[str] = set()\n",
    "path = dfs(start, goal, graph, visited)    \n",
    "print(\" -> \".join(path))"
   ]
  },
  {
   "cell_type": "markdown",
   "metadata": {},
   "source": [
    "### Iterative Deepening Depth-First Search (IDDFS)\n",
    "- A combination of depth-first and breadth-first search\n",
    "- Performs multiple depth-limited searches with increasing depth limits until the goal state is found\n",
    "- Combines completeness of BFS with the space efficiency of DFS"
   ]
  },
  {
   "cell_type": "code",
   "execution_count": 45,
   "metadata": {},
   "outputs": [
    {
     "name": "stdout",
     "output_type": "stream",
     "text": [
      "Path found at depth 4: s -> a -> c -> e\n"
     ]
    }
   ],
   "source": [
    "def iddfs(\n",
    "    start: str,\n",
    "    goal: str,\n",
    "    graph: dict[str, list[tuple[str, int]]],\n",
    "    depth: int\n",
    ") -> list[str] | None:\n",
    "    while depth >= 0:\n",
    "        visited: set[str] = set()\n",
    "        result = dfs(start, goal, depth, graph, visited)\n",
    "        if result:\n",
    "            return result\n",
    "        depth -= 1\n",
    "    return None\n",
    "\n",
    "def dfs(\n",
    "    current: str,\n",
    "    goal: str,\n",
    "    depth: int,\n",
    "    graph: dict[str, list[tuple[str, int]]],\n",
    "    visited: set[str]\n",
    ") -> list[str]:\n",
    "    if depth <= 0:\n",
    "        return []\n",
    "    if current == goal:\n",
    "        return [current]\n",
    "    if current in visited:\n",
    "        return []\n",
    "\n",
    "    visited.add(current)\n",
    "    for next, _ in graph[current]:\n",
    "        if next not in visited:\n",
    "            result = dfs(next, goal, depth - 1, graph, visited)\n",
    "            if result:\n",
    "                return [current] + result\n",
    "    \n",
    "    return []\n",
    "\n",
    "for i in range(len(graph)):\n",
    "    result = iddfs(start, goal, graph, i)\n",
    "    if result:\n",
    "        print(f\"Path found at depth {i}:\", \" -> \".join(result))\n",
    "        break"
   ]
  },
  {
   "cell_type": "markdown",
   "metadata": {},
   "source": [
    "### Uniform Cost Search\n",
    "- Explores the search space by considering the cost of reaching node from the initial state\n",
    "- Uses a priority queue to maintain the frontier of nodes to be expanded, prioritizing nodes with lower path costs\n",
    "- Guarantees finding the shortest path to the goal state in terms of path cost"
   ]
  },
  {
   "cell_type": "code",
   "execution_count": 55,
   "metadata": {},
   "outputs": [
    {
     "name": "stdout",
     "output_type": "stream",
     "text": [
      "Cost: 4\n",
      "Path: s -> a -> d -> e\n"
     ]
    }
   ],
   "source": [
    "from queue import PriorityQueue\n",
    "\n",
    "class State:\n",
    "    def __init__(self, current: str, cost: int, parent = None) -> None:\n",
    "        self.current = current\n",
    "        self.cost = cost\n",
    "        self.parent = parent\n",
    "\n",
    "    def __lt__(self, obj):\n",
    "        return self.cost < obj.cost\n",
    "\n",
    "def ucs(\n",
    "    start: str,\n",
    "    goal: str,\n",
    "    graph: dict[str, list[tuple[str, int]]]\n",
    ") -> State | None:\n",
    "    pq = PriorityQueue()\n",
    "    visited: set[str] = set()\n",
    "\n",
    "    pq.put((0, State(start, 0)))\n",
    "    while pq:\n",
    "        cost, state = pq.get()\n",
    "        node = state.current\n",
    "        if node == goal:\n",
    "            return state\n",
    "        if node not in visited:\n",
    "            visited.add(node)\n",
    "            for next, next_cost in graph[node]:\n",
    "                new_cost = cost + next_cost\n",
    "                pq.put((new_cost, State(next, new_cost, state)))\n",
    "    \n",
    "    return None\n",
    "\n",
    "result = ucs(start, goal, graph)\n",
    "cost = result.cost\n",
    "path: list[str] = []\n",
    "\n",
    "while result:\n",
    "    path.insert(0, result.current)\n",
    "    result = result.parent\n",
    "\n",
    "print(f\"Cost: {cost}\\nPath:\", \" -> \".join(path))"
   ]
  }
 ],
 "metadata": {
  "kernelspec": {
   "display_name": "venv",
   "language": "python",
   "name": "python3"
  },
  "language_info": {
   "codemirror_mode": {
    "name": "ipython",
    "version": 3
   },
   "file_extension": ".py",
   "mimetype": "text/x-python",
   "name": "python",
   "nbconvert_exporter": "python",
   "pygments_lexer": "ipython3",
   "version": "3.10.12"
  }
 },
 "nbformat": 4,
 "nbformat_minor": 2
}
