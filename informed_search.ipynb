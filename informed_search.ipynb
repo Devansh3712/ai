{
 "cells": [
  {
   "cell_type": "markdown",
   "metadata": {},
   "source": [
    "## Informed Search\n",
    "\n",
    "Used to traverse a search space with some information about the problem domain to guide its search. This knowledge helps the algorithm to make better decisions about which paths to explore to reach the goal more efficiently.\n",
    "\n",
    "![graph](https://github.com/Devansh3712/ai/assets/58616444/78bea8b3-1f03-4181-8c90-9b0dc3507b50)\n",
    "\n",
    "Heuristic is a rule or a guideline that helps estimate how close a given state is to the goal.\n",
    "\n",
    "|  Node | Heuristic  |\n",
    "|-------|------------|\n",
    "|   s   |     20     |\n",
    "|   a   |     15     |\n",
    "|   b   |     17     |\n",
    "|   c   |     9      |\n",
    "|   d   |     11     |\n",
    "|   e   |     0      |"
   ]
  },
  {
   "cell_type": "code",
   "execution_count": 1,
   "metadata": {},
   "outputs": [],
   "source": [
    "graph = {\n",
    "    \"s\": [(\"a\", 1), (\"b\", 5)],\n",
    "    \"a\": [(\"b\", 2), (\"c\", 2), (\"d\", 1)],\n",
    "    \"b\": [(\"d\", 2)],\n",
    "    \"c\": [(\"d\", 3), (\"e\", 1)],\n",
    "    \"d\": [(\"e\", 2)],\n",
    "    \"e\": []\n",
    "}\n",
    "heuristic = {\n",
    "    \"s\": 20,\n",
    "    \"a\": 15,\n",
    "    \"b\": 17,\n",
    "    \"c\": 9,\n",
    "    \"d\": 11,\n",
    "    \"e\": 0\n",
    "}\n",
    "start = \"s\"\n",
    "goal = \"e\""
   ]
  },
  {
   "cell_type": "markdown",
   "metadata": {},
   "source": [
    "### Best First Search\n",
    "- Evaluates each state in the search space and selects the one that appears to be closest to the goal according to a heuristic function\n",
    "- Uses a priority queue to keep track of the states, orders the states based on their heuristic values with the most promising states having the highest priority\n",
    "- Doesn't guarantee finding the optimal solution, especially if the heuristic is not well-designed\n",
    "- Can suffer from issues like getting stuck in local optima or not exploring other potentially fruitful paths"
   ]
  },
  {
   "cell_type": "code",
   "execution_count": 11,
   "metadata": {},
   "outputs": [
    {
     "name": "stdout",
     "output_type": "stream",
     "text": [
      "s -> a -> c -> e\n"
     ]
    }
   ],
   "source": [
    "from queue import PriorityQueue\n",
    "\n",
    "def bfs(\n",
    "    start: str,\n",
    "    goal: str,\n",
    "    graph: dict[str, list[tuple[str, int]]],\n",
    "    heuristic: dict[str, int]\n",
    ") -> dict[str, str]:\n",
    "    pq = PriorityQueue()\n",
    "    visited: set[str] = set()\n",
    "    parents: dict[str, str] = {}\n",
    "\n",
    "    pq.put((heuristic[start], start, None))\n",
    "    while pq:\n",
    "        _, current, parent = pq.get()\n",
    "        parents[current] = parent\n",
    "\n",
    "        if current == goal:\n",
    "            return parents\n",
    "        if current not in visited:\n",
    "            visited.add(current)\n",
    "            for next, _ in graph[current]:\n",
    "                pq.put((heuristic[next], next, current))\n",
    "    \n",
    "    return {}\n",
    "\n",
    "result = bfs(start, goal, graph, heuristic)\n",
    "if result:\n",
    "    path = [start]\n",
    "    current = goal\n",
    "    while current != start:\n",
    "        path.insert(1, current)\n",
    "        current = result[current]\n",
    "    \n",
    "    print(\" -> \".join(path))"
   ]
  },
  {
   "cell_type": "markdown",
   "metadata": {},
   "source": [
    "### A* Algorithm\n",
    "- Used to find the shortest path from a starting point to goal point in a graph\n",
    "- Maintains a priority queue, nodes are ordered based on their total cost (path cost + heuristic). Expands the node with the lowest total cost, effectively focusing on exploring the most promising paths first\n",
    "- Gurantees finding the optimal solution if heuristic is **admissible** (never overestimates the true cost to reach the goal) and **consistent** (estimated cost from one node to another is always less than or equal to the actual cost plus estimated cost from the second node to the goal)"
   ]
  },
  {
   "cell_type": "code",
   "execution_count": 12,
   "metadata": {},
   "outputs": [
    {
     "name": "stdout",
     "output_type": "stream",
     "text": [
      "Cost: 4\n",
      "Path: s -> a -> c -> e\n"
     ]
    }
   ],
   "source": [
    "from queue import PriorityQueue\n",
    "\n",
    "def a_star(\n",
    "    start: str,\n",
    "    goal: str,\n",
    "    graph: dict[str, list[tuple[str, int]]],\n",
    "    heuristic: dict[str, int]\n",
    ") -> dict[str, str]:\n",
    "    pq = PriorityQueue()\n",
    "    visited: set[str] = set()\n",
    "    parents: dict[str, str] = {}\n",
    "\n",
    "    pq.put((heuristic[start], start, None))\n",
    "    while pq:\n",
    "        cost, current, parent = pq.get()\n",
    "        parents[current] = parent\n",
    "\n",
    "        if current == goal:\n",
    "            return parents, cost\n",
    "        if current not in visited:\n",
    "            visited.add(current)        \n",
    "            for next, next_cost in graph[current]:\n",
    "                new_cost = cost - heuristic[current] + next_cost + heuristic[next]\n",
    "                pq.put((new_cost, next, current))\n",
    "\n",
    "    return {}, -1\n",
    "\n",
    "result, cost = a_star(start, goal, graph, heuristic)\n",
    "if result:\n",
    "    path = [start]\n",
    "    current = goal\n",
    "    while current != start:\n",
    "        path.insert(1, current)\n",
    "        current = result[current]\n",
    "\n",
    "    print(f\"Cost: {cost}\\nPath:\", \" -> \".join(path))"
   ]
  },
  {
   "cell_type": "markdown",
   "metadata": {},
   "source": [
    "### Hill Climbing\n",
    "- Used to find the best solution (local optimum) to a problem by iteratively making incremental movements\n",
    "- Selects the neighboring solution that moves closer to the optimal solution. Repeats until no improvements can be made or a goal is reached\n",
    "- Can get stuck in local optima and is sensitive to the choice of initial solution and neighborhoof generation strategy"
   ]
  },
  {
   "cell_type": "code",
   "execution_count": 16,
   "metadata": {},
   "outputs": [
    {
     "name": "stdout",
     "output_type": "stream",
     "text": [
      "s -> a -> c -> e\n"
     ]
    }
   ],
   "source": [
    "from sys import maxsize\n",
    "\n",
    "def hill_climbing(\n",
    "    start: str,\n",
    "    goal: str,\n",
    "    graph: dict[str, list[tuple[str, int]]],\n",
    "    heuristic: dict[str, int]\n",
    ") -> list[str]:\n",
    "    current = start\n",
    "    path = [current]\n",
    "\n",
    "    while current != goal:\n",
    "        neighbors = graph[current]\n",
    "        next_node = ...\n",
    "        min_cost = maxsize\n",
    "\n",
    "        for neighbor, cost in neighbors:\n",
    "            if neighbor not in path:\n",
    "                if cost + heuristic[neighbor] < min_cost:\n",
    "                    min_cost = heuristic[neighbor]\n",
    "                    next_node = neighbor\n",
    "\n",
    "        if not next_node:\n",
    "            return []\n",
    "\n",
    "        path.append(next_node)\n",
    "        current = next_node\n",
    "\n",
    "    return path\n",
    "\n",
    "result = hill_climbing(start, goal, graph, heuristic)\n",
    "print(\" -> \".join(result) if result else \"No path found\")"
   ]
  }
 ],
 "metadata": {
  "kernelspec": {
   "display_name": "venv",
   "language": "python",
   "name": "python3"
  },
  "language_info": {
   "codemirror_mode": {
    "name": "ipython",
    "version": 3
   },
   "file_extension": ".py",
   "mimetype": "text/x-python",
   "name": "python",
   "nbconvert_exporter": "python",
   "pygments_lexer": "ipython3",
   "version": "3.10.12"
  }
 },
 "nbformat": 4,
 "nbformat_minor": 2
}
