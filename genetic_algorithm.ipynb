{
 "cells": [
  {
   "cell_type": "markdown",
   "metadata": {},
   "source": [
    "## Genetic Algorithm\n",
    "A type of optimization algorithm used to solve optimization and search problems, particularly those with large, complex search spaces."
   ]
  },
  {
   "cell_type": "code",
   "execution_count": 1,
   "metadata": {},
   "outputs": [],
   "source": [
    "# Items that can be put in the knapsack\n",
    "# (item, weight)\n",
    "items = [\n",
    "    (1, 2),\n",
    "    (2, 4),\n",
    "    (3, 4),\n",
    "    (4, 5),\n",
    "    (5, 7),\n",
    "    (6, 9)\n",
    "]\n",
    "max_weight = 10\n",
    "population_size = 10\n",
    "mutation_probability = 0.2\n",
    "generations = 10"
   ]
  },
  {
   "cell_type": "markdown",
   "metadata": {},
   "source": [
    "### Initialization\n",
    "Generate an initial population of potential solutions. These solutions represent possible solutions to the optimization problem."
   ]
  },
  {
   "cell_type": "code",
   "execution_count": 2,
   "metadata": {},
   "outputs": [],
   "source": [
    "import random\n",
    "\n",
    "def generate_population(\n",
    "    population_size: int,\n",
    "    items_size: list[tuple[int, int]]\n",
    ") -> list[list[int]]:\n",
    "    population: list[list[int]] = []\n",
    "    for _ in range(population_size):\n",
    "        chromosome = [random.choice((0, 1)) for _ in range(items_size)]\n",
    "        population.append(chromosome)\n",
    "    return population\n",
    "\n",
    "population = generate_population(population_size, len(items))"
   ]
  },
  {
   "cell_type": "markdown",
   "metadata": {},
   "source": [
    "### Evaluation\n",
    "Evaluate each individual in the population using a fitness function. The fitness function assesses how well each individual performs in solving the optimization problem."
   ]
  },
  {
   "cell_type": "code",
   "execution_count": 3,
   "metadata": {},
   "outputs": [],
   "source": [
    "def calculate_fitness(chromosome: list[int]) -> int:\n",
    "    total_weight = 0\n",
    "    for i in range(len(chromosome)):\n",
    "        if chromosome[i]:\n",
    "            total_weight += items[i][1]\n",
    "    if total_weight > max_weight:\n",
    "        return 0\n",
    "    return total_weight"
   ]
  },
  {
   "cell_type": "markdown",
   "metadata": {},
   "source": [
    "### Selection\n",
    "Select individuals from the population to serve as parents for the next generation. The selection process is based on the fitness scores of individuals, with fitter individuals being most likely to be selected."
   ]
  },
  {
   "cell_type": "code",
   "execution_count": 4,
   "metadata": {},
   "outputs": [],
   "source": [
    "def select_chromosomes(\n",
    "    population: list[list[int]]\n",
    ") -> tuple[list[int], ...]:\n",
    "    fitness_values = [calculate_fitness(chromosome) for chromosome in population]\n",
    "    fitness_values = [value/sum(fitness_values) for value in fitness_values]\n",
    "\n",
    "    parent_1 = random.choices(population, weights=fitness_values)\n",
    "    parent_2 = random.choices(population, weights=fitness_values)\n",
    "    return parent_1, parent_2"
   ]
  },
  {
   "cell_type": "markdown",
   "metadata": {},
   "source": [
    "### Crossover\n",
    "Create new offsprings by combining genetic material from selected parent individuals. The goal is to generate offspring that inherits beneficial traits from their parents."
   ]
  },
  {
   "cell_type": "code",
   "execution_count": 5,
   "metadata": {},
   "outputs": [],
   "source": [
    "def crossover(\n",
    "    parent_1: list[int],\n",
    "    parent_2: list[int]\n",
    ") -> tuple[list[int], ...]:\n",
    "    crossover_point = random.randint(0, len(items) - 1)\n",
    "    child_1 = parent_1[:crossover_point] + parent_2[crossover_point:]\n",
    "    child_2 = parent_2[:crossover_point] + parent_1[crossover_point:]\n",
    "    return child_1, child_2"
   ]
  },
  {
   "cell_type": "markdown",
   "metadata": {},
   "source": [
    "### Mutation\n",
    "Introduce random changes or mutations to the genetic material of the offspring. Mutation helps maintain diversity in the population and prevents premature convergence to suboptimal solutions."
   ]
  },
  {
   "cell_type": "code",
   "execution_count": 6,
   "metadata": {},
   "outputs": [],
   "source": [
    "def mutate(chromosome: list[int]) -> list[int]:\n",
    "    mutation_point = random.randint(0, len(items) - 1)\n",
    "    chromosome[mutation_point] = ~chromosome[mutation_point]\n",
    "    return chromosome"
   ]
  },
  {
   "cell_type": "markdown",
   "metadata": {},
   "source": [
    "### Iteration\n",
    "All steps are repeated iteratively until the temination condition is met. Each generation improves the quality of solutions in the population through selection, crossover and mutation."
   ]
  },
  {
   "cell_type": "code",
   "execution_count": 13,
   "metadata": {},
   "outputs": [
    {
     "name": "stdout",
     "output_type": "stream",
     "text": [
      "Weight: 10\n",
      "Items used: 1 2 3\n"
     ]
    }
   ],
   "source": [
    "for _ in range(generations):\n",
    "    parent_1, parent_2 = select_chromosomes(population)\n",
    "    child_1, child_2 = crossover(parent_1, parent_2)\n",
    "\n",
    "    if random.uniform(0, 1) < mutation_probability:\n",
    "        child_1 = mutate(child_1)\n",
    "    if random.uniform(0, 1) < mutation_probability:\n",
    "        child_2 = mutate(child_2)\n",
    "\n",
    "    population = [child_1, child_2] + population[2:]\n",
    "\n",
    "fitness_values = [calculate_fitness(chromosome) for chromosome in population]\n",
    "max_value = max(fitness_values)\n",
    "max_index = fitness_values.index(max_value)\n",
    "best = population[max_index]\n",
    "\n",
    "total_weight = 0\n",
    "items_used = []\n",
    "for i in range(len(best)):\n",
    "    if best[i]:\n",
    "        total_weight += items[i][1]\n",
    "        items_used.append(items[i][0])\n",
    "\n",
    "print(\"Weight:\", total_weight)\n",
    "print(\"Items used:\", *items_used)"
   ]
  }
 ],
 "metadata": {
  "kernelspec": {
   "display_name": "venv",
   "language": "python",
   "name": "python3"
  },
  "language_info": {
   "codemirror_mode": {
    "name": "ipython",
    "version": 3
   },
   "file_extension": ".py",
   "mimetype": "text/x-python",
   "name": "python",
   "nbconvert_exporter": "python",
   "pygments_lexer": "ipython3",
   "version": "3.10.12"
  }
 },
 "nbformat": 4,
 "nbformat_minor": 2
}
